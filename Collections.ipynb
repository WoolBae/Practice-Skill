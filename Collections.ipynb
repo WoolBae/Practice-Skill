{
 "cells": [
  {
   "cell_type": "markdown",
   "metadata": {},
   "source": [
    "# Python 카운터(Counter) "
   ]
  },
  {
   "cell_type": "code",
   "execution_count": 1,
   "metadata": {
    "collapsed": true
   },
   "outputs": [],
   "source": [
    "from collections import Counter"
   ]
  },
  {
   "cell_type": "code",
   "execution_count": 3,
   "metadata": {},
   "outputs": [
    {
     "data": {
      "text/plain": [
       "Counter({1: 6, 2: 3, 3: 2, 4: 2, 5: 1})"
      ]
     },
     "execution_count": 3,
     "metadata": {},
     "output_type": "execute_result"
    }
   ],
   "source": [
    "# 숫자 count\n",
    "a = [1,2,3,4,5,1,1,1,1,1,2,3,4,2]\n",
    "Counter(a)"
   ]
  },
  {
   "cell_type": "code",
   "execution_count": 4,
   "metadata": {},
   "outputs": [
    {
     "data": {
      "text/plain": [
       "Counter({'c': 3, 'd': 3, 'i': 5, 'j': 2, 'n': 4, 'o': 3, 's': 1, 'w': 2})"
      ]
     },
     "execution_count": 4,
     "metadata": {},
     "output_type": "execute_result"
    }
   ],
   "source": [
    "# 문자 count\n",
    "random = 'sdjiwjdiwdnnciocnioncio'\n",
    "Counter(random)"
   ]
  },
  {
   "cell_type": "code",
   "execution_count": 5,
   "metadata": {
    "collapsed": true
   },
   "outputs": [],
   "source": [
    "b = '오늘 나는 아침밥으로 된장찌개와 김치찌개를 먹었다'"
   ]
  },
  {
   "cell_type": "code",
   "execution_count": 6,
   "metadata": {},
   "outputs": [
    {
     "data": {
      "text/plain": [
       "Counter({'김치찌개를': 1, '나는': 1, '된장찌개와': 1, '먹었다': 1, '아침밥으로': 1, '오늘': 1})"
      ]
     },
     "execution_count": 6,
     "metadata": {},
     "output_type": "execute_result"
    }
   ],
   "source": [
    "words = b.split()\n",
    "Counter(words)"
   ]
  },
  {
   "cell_type": "markdown",
   "metadata": {},
   "source": [
    "# Python deafaultdict() "
   ]
  },
  {
   "cell_type": "markdown",
   "metadata": {},
   "source": [
    "defaultdict()는 말그대로 dictionary 에 기본값을 정의하고 키값이 없더라도 에러를 출력하지않고 기본값을 출력한다. 그리고, dict.set_default를 사용하는것보다 빠른것이 장점이 있다."
   ]
  },
  {
   "cell_type": "code",
   "execution_count": 7,
   "metadata": {
    "collapsed": true
   },
   "outputs": [],
   "source": [
    "from collections import defaultdict\n",
    "#feafult dic 생성\n",
    "d = defaultdict(object)\n",
    "# dic 값 0으로 설정\n",
    "d = defaultdict(lambda:0)"
   ]
  },
  {
   "cell_type": "code",
   "execution_count": 8,
   "metadata": {},
   "outputs": [
    {
     "data": {
      "text/plain": [
       "0"
      ]
     },
     "execution_count": 8,
     "metadata": {},
     "output_type": "execute_result"
    }
   ],
   "source": [
    "d['one']"
   ]
  },
  {
   "cell_type": "markdown",
   "metadata": {},
   "source": [
    "값이 정해져있지 않은 키에 대해서 default 값 출력"
   ]
  },
  {
   "cell_type": "markdown",
   "metadata": {},
   "source": [
    "# # Python deque"
   ]
  },
  {
   "cell_type": "markdown",
   "metadata": {},
   "source": [
    "Deque(데크)는 double-ended queue의 줄임말로 앞과 뒤에서 즉 양방향에서 데이터를 처리할수 있는 queue형 자료구조를 의미한다."
   ]
  },
  {
   "cell_type": "markdown",
   "metadata": {},
   "source": [
    "python에서 collections.deque는 list와 비슷하다. list의 append(), pop()등의 메소드를 deque에서도 제공한다. "
   ]
  },
  {
   "cell_type": "markdown",
   "metadata": {},
   "source": [
    "### append"
   ]
  },
  {
   "cell_type": "code",
   "execution_count": 10,
   "metadata": {
    "collapsed": true
   },
   "outputs": [],
   "source": [
    "from collections import deque"
   ]
  },
  {
   "cell_type": "code",
   "execution_count": 11,
   "metadata": {},
   "outputs": [
    {
     "name": "stdout",
     "output_type": "stream",
     "text": [
      "['a', 'b', 'c', 'd']\n"
     ]
    }
   ],
   "source": [
    "lst =['a','b','c']\n",
    "lst.append('d')\n",
    "print(lst)"
   ]
  },
  {
   "cell_type": "code",
   "execution_count": 12,
   "metadata": {},
   "outputs": [
    {
     "name": "stdout",
     "output_type": "stream",
     "text": [
      "deque(['a', 'b', 'c', 'd'])\n"
     ]
    }
   ],
   "source": [
    "deq =deque(['a','b','c'])\n",
    "deq.append('d')\n",
    "print(deq)"
   ]
  },
  {
   "cell_type": "markdown",
   "metadata": {},
   "source": [
    "### appendleft"
   ]
  },
  {
   "cell_type": "markdown",
   "metadata": {},
   "source": [
    "deque는 양방향에서 데이터를 처리할 수 있는 구조이다. appendleft는 앞쪽에서  x를 추가해주는 메소드이다."
   ]
  },
  {
   "cell_type": "code",
   "execution_count": 13,
   "metadata": {},
   "outputs": [
    {
     "name": "stdout",
     "output_type": "stream",
     "text": [
      "deque(['d', 'a', 'b', 'c'])\n"
     ]
    }
   ],
   "source": [
    "deq = deque(['a','b','c'])\n",
    "deq.appendleft('d')\n",
    "print(deq)"
   ]
  },
  {
   "cell_type": "markdown",
   "metadata": {},
   "source": [
    "# python nametuple 과 OrderedDict"
   ]
  },
  {
   "cell_type": "markdown",
   "metadata": {},
   "source": [
    "index로만 값에 접근 가능한 기본 투플과 다르게 키값으로 접근 가능하도록 제공한다."
   ]
  },
  {
   "cell_type": "markdown",
   "metadata": {},
   "source": [
    "namedtupled()은 collections.namedtuple(typename, field_names, verbose=False, rename=False)을 입력값으로 받으며, field_names 를 통해 namedtuple()의 키 즉, 필드명(fieldname)을 정의할 수 있다. 필드명을 정의할 때에는 필드사이에 빈칸(whitespace)이나 ,로 구분해준다. \n"
   ]
  },
  {
   "cell_type": "code",
   "execution_count": 17,
   "metadata": {},
   "outputs": [
    {
     "name": "stdout",
     "output_type": "stream",
     "text": [
      "jon은 28 세의 남성 입니다.\n",
      "sally은 24 세의 여성 입니다.\n"
     ]
    }
   ],
   "source": [
    "#tuple vs nametuple\n",
    "a = ('jon',28,'남')\n",
    "b = ('sally',24,'여')\n",
    "for n in [a,b]:\n",
    "    print('%s은 %d 세의 %s성 입니다.'%n)"
   ]
  },
  {
   "cell_type": "code",
   "execution_count": 18,
   "metadata": {
    "collapsed": true
   },
   "outputs": [],
   "source": [
    "from collections import namedtuple"
   ]
  },
  {
   "cell_type": "code",
   "execution_count": 22,
   "metadata": {},
   "outputs": [
    {
     "name": "stdout",
     "output_type": "stream",
     "text": [
      "jon는 28세의 남성입니다.\n",
      "sally는 24세의 여성입니다.\n"
     ]
    }
   ],
   "source": [
    "person = namedtuple('person','name age gender')\n",
    "p1 = person(name='jon',age=28,gender='남')\n",
    "p2 = person(name='sally',age=24,gender='여')\n",
    "\n",
    "for  n in[p1,p2]:\n",
    "    print('%s는 %d세의 %s성입니다.'%n)"
   ]
  },
  {
   "cell_type": "code",
   "execution_count": 23,
   "metadata": {},
   "outputs": [
    {
     "name": "stdout",
     "output_type": "stream",
     "text": [
      "jon 28 남\n",
      "sally 24 여\n"
     ]
    }
   ],
   "source": [
    "print(p1.name,p1.age,p1.gender)\n",
    "print(p2.name,p2.age,p2.gender)"
   ]
  },
  {
   "cell_type": "markdown",
   "metadata": {},
   "source": [
    "### nametuple() 메소드들"
   ]
  },
  {
   "cell_type": "markdown",
   "metadata": {},
   "source": [
    "_make() : 기존에 생성된 nametuple()에 새로운 객체를 생성하는 메소드"
   ]
  },
  {
   "cell_type": "code",
   "execution_count": 24,
   "metadata": {
    "collapsed": true
   },
   "outputs": [],
   "source": [
    "#_make()를 이용하여 새로운 객체 생성\n",
    "p3 = person._make(['Tom',24,'남'])"
   ]
  },
  {
   "cell_type": "code",
   "execution_count": 25,
   "metadata": {},
   "outputs": [
    {
     "name": "stdout",
     "output_type": "stream",
     "text": [
      "jon는 28세의 남성입니다.\n",
      "sally는 24세의 여성입니다.\n",
      "Tom는 24세의 남성입니다.\n"
     ]
    }
   ],
   "source": [
    "for n in [p1,p2,p3]:\n",
    "    print('%s는 %d세의 %s성입니다.'%n)"
   ]
  },
  {
   "cell_type": "markdown",
   "metadata": {},
   "source": [
    "_asdict(): 기존에 생성된 nametuple()의 인스턴스를 orderdict로 변환해준다."
   ]
  },
  {
   "cell_type": "code",
   "execution_count": 26,
   "metadata": {},
   "outputs": [
    {
     "name": "stdout",
     "output_type": "stream",
     "text": [
      "OrderedDict([('name', 'Tom'), ('age', 24), ('gender', '남')])\n"
     ]
    }
   ],
   "source": [
    "print(p3._asdict())"
   ]
  },
  {
   "cell_type": "markdown",
   "metadata": {},
   "source": [
    "_replace: 기존에 생성된 nametuple()의 인스턴스의 값을 변경할때 사용하는 함수이다."
   ]
  },
  {
   "cell_type": "code",
   "execution_count": 27,
   "metadata": {
    "collapsed": true
   },
   "outputs": [],
   "source": [
    "p1 = p1._replace(name='neo')\n",
    "p2 = p2._replace(age =29)"
   ]
  },
  {
   "cell_type": "code",
   "execution_count": 28,
   "metadata": {},
   "outputs": [
    {
     "name": "stdout",
     "output_type": "stream",
     "text": [
      "neo는 28세의 남성입니다.\n",
      "sally는 29세의 여성입니다.\n",
      "Tom는 24세의 남성입니다.\n"
     ]
    }
   ],
   "source": [
    "for n in [p1,p2,p3]:\n",
    "    print('%s는 %d세의 %s성입니다.'%n)"
   ]
  },
  {
   "cell_type": "markdown",
   "metadata": {},
   "source": [
    "_fields: 생성된 nametuple()의 필드명을 tuple형식으로 return해준다."
   ]
  },
  {
   "cell_type": "code",
   "execution_count": 29,
   "metadata": {},
   "outputs": [
    {
     "name": "stdout",
     "output_type": "stream",
     "text": [
      "('name', 'age', 'gender')\n"
     ]
    }
   ],
   "source": [
    "print(p1._fields)"
   ]
  },
  {
   "cell_type": "markdown",
   "metadata": {},
   "source": [
    "getattr(): namedtuple의 인스턴스의 값을 추출해준다."
   ]
  },
  {
   "cell_type": "code",
   "execution_count": 30,
   "metadata": {},
   "outputs": [
    {
     "name": "stdout",
     "output_type": "stream",
     "text": [
      "neo\n"
     ]
    }
   ],
   "source": [
    "print(getattr(p1,'name'))"
   ]
  },
  {
   "cell_type": "markdown",
   "metadata": {},
   "source": [
    "dic에서 nametuple로 변환"
   ]
  },
  {
   "cell_type": "code",
   "execution_count": 32,
   "metadata": {},
   "outputs": [
    {
     "name": "stdout",
     "output_type": "stream",
     "text": [
      "person(name='neo', age=28, gender='남')\n",
      "person(name='sally', age=29, gender='여')\n",
      "person(name='Tom', age=24, gender='남')\n",
      "person(name='seo', age=21, gender='여')\n"
     ]
    }
   ],
   "source": [
    "dic ={'name':'seo','age':21,'gender':'여'}\n",
    "p4 = person(**dic)\n",
    "for n in [p1,p2,p3,p4]:\n",
    "    print(n)"
   ]
  },
  {
   "cell_type": "markdown",
   "metadata": {},
   "source": [
    "Orderedict은 말그래도 순서대로 저장된 dic을 말한다."
   ]
  },
  {
   "cell_type": "markdown",
   "metadata": {},
   "source": [
    "이와 같이 저장된 순서대로 값을 출력하지 않는다."
   ]
  },
  {
   "cell_type": "code",
   "execution_count": 57,
   "metadata": {},
   "outputs": [
    {
     "data": {
      "text/plain": [
       "{'b': 340, 'x': 100, 'y': 200}"
      ]
     },
     "execution_count": 57,
     "metadata": {},
     "output_type": "execute_result"
    }
   ],
   "source": [
    "d = {}\n",
    "d['x'] = 100\n",
    "d['y'] = 200\n",
    "d['b'] = 340    \n",
    "d"
   ]
  },
  {
   "cell_type": "markdown",
   "metadata": {},
   "source": [
    "OrderedDict은 순서대로 출력하게 해준다."
   ]
  },
  {
   "cell_type": "code",
   "execution_count": 59,
   "metadata": {},
   "outputs": [
    {
     "data": {
      "text/plain": [
       "OrderedDict([('x', 100), ('y', 200), ('b', 340)])"
      ]
     },
     "execution_count": 59,
     "metadata": {},
     "output_type": "execute_result"
    }
   ],
   "source": [
    "from collections import OrderedDict\n",
    "d = OrderedDict()\n",
    "d['x'] = 100\n",
    "d['y'] = 200\n",
    "d['b'] = 340\n",
    "d"
   ]
  },
  {
   "cell_type": "code",
   "execution_count": null,
   "metadata": {
    "collapsed": true
   },
   "outputs": [],
   "source": []
  }
 ],
 "metadata": {
  "kernelspec": {
   "display_name": "Python 3",
   "language": "python",
   "name": "python3"
  },
  "language_info": {
   "codemirror_mode": {
    "name": "ipython",
    "version": 3
   },
   "file_extension": ".py",
   "mimetype": "text/x-python",
   "name": "python",
   "nbconvert_exporter": "python",
   "pygments_lexer": "ipython3",
   "version": "3.6.3"
  }
 },
 "nbformat": 4,
 "nbformat_minor": 2
}
