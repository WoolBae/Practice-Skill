{
 "cells": [
  {
   "cell_type": "markdown",
   "metadata": {},
   "source": [
    "### class 생성하기"
   ]
  },
  {
   "cell_type": "code",
   "execution_count": 1,
   "metadata": {},
   "outputs": [],
   "source": [
    "#class 생성\n",
    "class Userinfo:\n",
    "    #메소드 생성\n",
    "    def set_info(self,name,phone):\n",
    "        self.name = name\n",
    "        self.phone = phone\n",
    "    #메소드 생성\n",
    "    def print_info(self):\n",
    "        print('--------')\n",
    "        print('Name:' + self.name)\n",
    "        print('Phone:' + self.phone)\n",
    "        print(\"---------\")"
   ]
  },
  {
   "cell_type": "code",
   "execution_count": 2,
   "metadata": {},
   "outputs": [
    {
     "name": "stdout",
     "output_type": "stream",
     "text": [
      "--------\n",
      "Name:kim\n",
      "Phone:010-3333-3333\n",
      "---------\n",
      "--------\n",
      "Name:park\n",
      "Phone:010-7777-7777\n",
      "---------\n"
     ]
    }
   ],
   "source": [
    "#객체 생성\n",
    "user1= Userinfo()\n",
    "user2 = Userinfo()\n",
    "\n",
    "user1.set_info('kim','010-3333-3333')\n",
    "user2.set_info('park','010-7777-7777')\n",
    "\n",
    "user1.print_info()\n",
    "user2.print_info()"
   ]
  },
  {
   "cell_type": "markdown",
   "metadata": {},
   "source": [
    "### 객체초기화"
   ]
  },
  {
   "cell_type": "code",
   "execution_count": 3,
   "metadata": {
    "collapsed": true
   },
   "outputs": [],
   "source": [
    "#생성자를 이용해 초기화시키기\n",
    "\n",
    "#class 생성\n",
    "class Userinfo:\n",
    "    # 객체초기화\n",
    "    def __init__(self,name,phone):\n",
    "        self.name = name\n",
    "        self.phone = phone\n",
    "    #메소드 생성\n",
    "    def print_info(self):\n",
    "        print('--------')\n",
    "        print('Name:' + self.name)\n",
    "        print('Phone:' + self.phone)\n",
    "        print(\"---------\")"
   ]
  },
  {
   "cell_type": "code",
   "execution_count": 4,
   "metadata": {
    "collapsed": true
   },
   "outputs": [],
   "source": [
    "user1 = Userinfo('kim','010-1111-1111')\n",
    "user2 = Userinfo('park','010-2222-2222')"
   ]
  },
  {
   "cell_type": "code",
   "execution_count": 9,
   "metadata": {},
   "outputs": [
    {
     "name": "stdout",
     "output_type": "stream",
     "text": [
      "--------\n",
      "Name:kim\n",
      "Phone:010-1111-1111\n",
      "---------\n",
      "--------\n",
      "Name:park\n",
      "Phone:010-2222-2222\n",
      "---------\n"
     ]
    }
   ],
   "source": [
    "user1.print_info()\n",
    "user2.print_info()"
   ]
  },
  {
   "cell_type": "markdown",
   "metadata": {},
   "source": [
    "### class 변수"
   ]
  },
  {
   "cell_type": "code",
   "execution_count": 10,
   "metadata": {
    "collapsed": true
   },
   "outputs": [],
   "source": [
    "class Warehouse:\n",
    "    stock_num = 0\n",
    "    def __init__(self,name):\n",
    "        self.name =name\n",
    "        Warehouse.stock_num +=1\n",
    "        \n",
    "    def __del__(self):\n",
    "        Warehouse.stock_num -=1    "
   ]
  },
  {
   "cell_type": "code",
   "execution_count": 11,
   "metadata": {
    "collapsed": true
   },
   "outputs": [],
   "source": [
    "user1 =Warehouse('kim')\n",
    "user2 =Warehouse('park')"
   ]
  },
  {
   "cell_type": "code",
   "execution_count": 16,
   "metadata": {
    "scrolled": true
   },
   "outputs": [
    {
     "name": "stdout",
     "output_type": "stream",
     "text": [
      "kim\n",
      "park\n",
      "{'name': 'kim'}\n",
      "{'name': 'park'}\n",
      "{'__module__': '__main__', 'stock_num': 2, '__init__': <function Warehouse.__init__ at 0x000001F978FD7488>, '__del__': <function Warehouse.__del__ at 0x000001F978FD7510>, '__dict__': <attribute '__dict__' of 'Warehouse' objects>, '__weakref__': <attribute '__weakref__' of 'Warehouse' objects>, '__doc__': None}\n"
     ]
    }
   ],
   "source": [
    "print(user1.name)\n",
    "print(user2.name)\n",
    "print(user1.__dict__)\n",
    "print(user2.__dict__)\n",
    "print(Warehouse.__dict__)"
   ]
  },
  {
   "cell_type": "code",
   "execution_count": 17,
   "metadata": {},
   "outputs": [
    {
     "name": "stdout",
     "output_type": "stream",
     "text": [
      "2\n",
      "2\n"
     ]
    }
   ],
   "source": [
    "print(user1.stock_num)\n",
    "print(user2.stock_num)"
   ]
  }
 ],
 "metadata": {
  "kernelspec": {
   "display_name": "Python 3",
   "language": "python",
   "name": "python3"
  },
  "language_info": {
   "codemirror_mode": {
    "name": "ipython",
    "version": 3
   },
   "file_extension": ".py",
   "mimetype": "text/x-python",
   "name": "python",
   "nbconvert_exporter": "python",
   "pygments_lexer": "ipython3",
   "version": "3.6.3"
  }
 },
 "nbformat": 4,
 "nbformat_minor": 2
}
