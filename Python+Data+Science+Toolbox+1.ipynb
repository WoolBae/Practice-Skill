{
 "cells": [
  {
   "cell_type": "markdown",
   "metadata": {},
   "source": [
    "# Write a Simple Function"
   ]
  },
  {
   "cell_type": "code",
   "execution_count": 6,
   "metadata": {
    "collapsed": true
   },
   "outputs": [],
   "source": [
    "#make function\n",
    "def shout(word):\n",
    "    shout_word = word + '!!!'\n",
    "    print(shout_word)"
   ]
  },
  {
   "cell_type": "code",
   "execution_count": 7,
   "metadata": {},
   "outputs": [
    {
     "name": "stdout",
     "output_type": "stream",
     "text": [
      "great!!!\n"
     ]
    }
   ],
   "source": [
    "shout('great')"
   ]
  },
  {
   "cell_type": "markdown",
   "metadata": {},
   "source": [
    "_ _"
   ]
  },
  {
   "cell_type": "markdown",
   "metadata": {},
   "source": [
    "# Functions with multiple parameters"
   ]
  },
  {
   "cell_type": "code",
   "execution_count": 8,
   "metadata": {
    "collapsed": true
   },
   "outputs": [],
   "source": [
    "# make function with multiple parameters\n",
    "def shout(word1,word2):\n",
    "    shout1 = word1 +\"!!!\"\n",
    "    shout2 = word2 +\"!!!\"\n",
    "    \n",
    "    new_shout = shout1 + shout2\n",
    "    \n",
    "    return new_shout"
   ]
  },
  {
   "cell_type": "code",
   "execution_count": 9,
   "metadata": {},
   "outputs": [
    {
     "name": "stdout",
     "output_type": "stream",
     "text": [
      "great!!!job!!!\n"
     ]
    }
   ],
   "source": [
    "yell = shout('great','job')\n",
    "print(yell)"
   ]
  },
  {
   "cell_type": "markdown",
   "metadata": {},
   "source": [
    "_____ _"
   ]
  },
  {
   "cell_type": "markdown",
   "metadata": {},
   "source": [
    "## Nested Functions "
   ]
  },
  {
   "cell_type": "code",
   "execution_count": 10,
   "metadata": {
    "collapsed": true
   },
   "outputs": [],
   "source": [
    "# define inner function\n",
    "def three_shouts(word1,word2,word3):\n",
    "    \n",
    "    def inner(word):\n",
    "        return word + '!!!'\n",
    "\n",
    "    return(inner(word1),inner(word2),inner(word3))"
   ]
  },
  {
   "cell_type": "code",
   "execution_count": 11,
   "metadata": {},
   "outputs": [
    {
     "name": "stdout",
     "output_type": "stream",
     "text": [
      "('a!!!', 'b!!!', 'c!!!')\n"
     ]
    }
   ],
   "source": [
    "print(three_shouts('a','b','c'))"
   ]
  },
  {
   "cell_type": "markdown",
   "metadata": {},
   "source": [
    "## The keyword nonlocal and nested functions"
   ]
  },
  {
   "cell_type": "code",
   "execution_count": 15,
   "metadata": {
    "collapsed": true
   },
   "outputs": [],
   "source": [
    "def echo_shout(word):\n",
    "    \n",
    "    echo_word = word *2\n",
    "    \n",
    "    print(echo_word)\n",
    "    \n",
    "    def shout():\n",
    "#make echo_word global\n",
    "        nonlocal echo_word\n",
    "        echo_word = echo_word + '!!!'\n",
    "        \n",
    "    shout()\n",
    "    print(echo_word)"
   ]
  },
  {
   "cell_type": "code",
   "execution_count": 16,
   "metadata": {},
   "outputs": [
    {
     "name": "stdout",
     "output_type": "stream",
     "text": [
      "hellohello\n",
      "hellohello!!!\n"
     ]
    }
   ],
   "source": [
    "echo_shout('hello')"
   ]
  },
  {
   "cell_type": "markdown",
   "metadata": {},
   "source": [
    "___ _"
   ]
  },
  {
   "cell_type": "markdown",
   "metadata": {},
   "source": [
    "## Functions with one default argument"
   ]
  },
  {
   "cell_type": "code",
   "execution_count": 21,
   "metadata": {},
   "outputs": [
    {
     "name": "stdout",
     "output_type": "stream",
     "text": [
      "hey!!!\n",
      "heyheyheyheyhey!!!\n"
     ]
    }
   ],
   "source": [
    "def shout_echo(word1, echo=1):\n",
    "    echo_word = word1* echo\n",
    "    \n",
    "    shout_word = echo_word + '!!!'\n",
    "    \n",
    "    return shout_word\n",
    "\n",
    "no_echo = shout_echo(\"hey\")\n",
    "\n",
    "with_echo = shout_echo('hey',echo=5)\n",
    "\n",
    "print(no_echo)\n",
    "print(with_echo)"
   ]
  },
  {
   "cell_type": "markdown",
   "metadata": {},
   "source": [
    "## Function with variable-length arguments(*args)"
   ]
  },
  {
   "cell_type": "code",
   "execution_count": 70,
   "metadata": {},
   "outputs": [],
   "source": [
    "def gibberish(*args):\n",
    "    \n",
    "    h = \"\"\n",
    "    \n",
    "    for word in args:\n",
    "        h += word\n",
    "        \n",
    "    return h\n",
    "\n",
    "one_word = gibberish('luke')\n",
    "\n",
    "\n",
    "many_words = gibberish(\"luke\",\"leia\",\"han\")"
   ]
  },
  {
   "cell_type": "code",
   "execution_count": 71,
   "metadata": {},
   "outputs": [
    {
     "name": "stdout",
     "output_type": "stream",
     "text": [
      "luke\n",
      "lukeleiahan\n"
     ]
    }
   ],
   "source": [
    "print(one_word)\n",
    "print(many_words)"
   ]
  },
  {
   "cell_type": "markdown",
   "metadata": {},
   "source": [
    "## Function with variable-length keyword arguments(**kwargs)"
   ]
  },
  {
   "cell_type": "code",
   "execution_count": 74,
   "metadata": {},
   "outputs": [
    {
     "name": "stdout",
     "output_type": "stream",
     "text": [
      "\n",
      "BEGIN: REPORT\n",
      "\n",
      "name:luke\n",
      "affi:jedi\n",
      "staus:missing\n",
      "\n",
      "END REPORT\n"
     ]
    }
   ],
   "source": [
    "def report_status(**kwargs):\n",
    "    print(\"\\nBEGIN: REPORT\\n\")\n",
    "    \n",
    "    for key, value in kwargs.items():\n",
    "        print(key +\":\" + value)\n",
    "        \n",
    "    print(\"\\nEND REPORT\")\n",
    "    \n",
    "    \n",
    "report_status(name ='luke',affi ='jedi', staus='missing')"
   ]
  }
 ],
 "metadata": {
  "kernelspec": {
   "display_name": "Python 3",
   "language": "python",
   "name": "python3"
  },
  "language_info": {
   "codemirror_mode": {
    "name": "ipython",
    "version": 3
   },
   "file_extension": ".py",
   "mimetype": "text/x-python",
   "name": "python",
   "nbconvert_exporter": "python",
   "pygments_lexer": "ipython3",
   "version": "3.6.3"
  }
 },
 "nbformat": 4,
 "nbformat_minor": 2
}
